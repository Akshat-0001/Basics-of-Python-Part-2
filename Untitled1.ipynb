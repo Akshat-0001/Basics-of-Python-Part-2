{
  "nbformat": 4,
  "nbformat_minor": 0,
  "metadata": {
    "colab": {
      "provenance": [],
      "authorship_tag": "ABX9TyPVVAQASn2nS1a4HZedS8YV",
      "include_colab_link": true
    },
    "kernelspec": {
      "name": "python3",
      "display_name": "Python 3"
    },
    "language_info": {
      "name": "python"
    }
  },
  "cells": [
    {
      "cell_type": "markdown",
      "metadata": {
        "id": "view-in-github",
        "colab_type": "text"
      },
      "source": [
        "<a href=\"https://colab.research.google.com/github/Akshat-0001/Basics-of-Python-Part-2/blob/main/Untitled1.ipynb\" target=\"_parent\"><img src=\"https://colab.research.google.com/assets/colab-badge.svg\" alt=\"Open In Colab\"/></a>"
      ]
    },
    {
      "cell_type": "code",
      "execution_count": null,
      "metadata": {
        "colab": {
          "base_uri": "https://localhost:8080/"
        },
        "id": "tka1dZ9QNowQ",
        "outputId": "bf330089-18ae-4985-eb51-c58e6c26b89c"
      },
      "outputs": [
        {
          "output_type": "stream",
          "name": "stdout",
          "text": [
            "1\n",
            "2\n",
            "3\n",
            "4\n",
            "5\n",
            "6\n",
            "7\n",
            "8\n",
            "9\n",
            "10\n",
            "11\n",
            "12\n",
            "13\n",
            "14\n",
            "15\n"
          ]
        }
      ],
      "source": [
        "#--------------------------------\n",
        "# 1.1: While Loop (print 1 to 15) \n",
        "#--------------------------------\n",
        "i = 1 #initialize\n",
        "while i <= 15: #condition\n",
        "    print (i) #display\n",
        "    i = i + 1 # loop\n"
      ]
    },
    {
      "cell_type": "code",
      "source": [
        "#--------------------------------\n",
        "# 1.2: While Loop (print 15 to 1)\n",
        "#--------------------------------\n",
        "i = 15 # initialize\n",
        "while i > 0: #condition\n",
        "    print (i) #display\n",
        "    i = i - 1 #loop\n"
      ],
      "metadata": {
        "colab": {
          "base_uri": "https://localhost:8080/"
        },
        "id": "nW1gj3MuOXrS",
        "outputId": "1b489910-0ef6-49d5-8d5a-395f7f0dfffc"
      },
      "execution_count": null,
      "outputs": [
        {
          "output_type": "stream",
          "name": "stdout",
          "text": [
            "15\n",
            "14\n",
            "13\n",
            "12\n",
            "11\n",
            "10\n",
            "9\n",
            "8\n",
            "7\n",
            "6\n",
            "5\n",
            "4\n",
            "3\n",
            "2\n",
            "1\n"
          ]
        }
      ]
    },
    {
      "cell_type": "code",
      "source": [
        "#---------------------\n",
        "# 2.3: Range Function\n",
        "#---------------------\n",
        "print (\"range(10)        -->\", list(range(5)))\n",
        "print (\"range(0,20)      -->\", list(range(0,5)))\n",
        "print (\"range(10,20)     -->\", list(range(5,10)))\n",
        "print (\"range(0,20,2)    -->\", list(range(0,15,2))) # list shown from 0 to 14 with difference of 2\n",
        "print (\"range(-10,-20,-2)-->\", list(range(-10,-20,-3))) #list shown from -10 to -18 with difference of -3\n"
      ],
      "metadata": {
        "colab": {
          "base_uri": "https://localhost:8080/"
        },
        "id": "5lCngbicOXty",
        "outputId": "a878bee2-3b01-416c-999a-bb1a394426e9"
      },
      "execution_count": null,
      "outputs": [
        {
          "output_type": "stream",
          "name": "stdout",
          "text": [
            "range(10)        --> [0, 1, 2, 3, 4]\n",
            "range(0,20)      --> [0, 1, 2, 3, 4]\n",
            "range(10,20)     --> [5, 6, 7, 8, 9]\n",
            "range(0,20,2)    --> [0, 2, 4, 6, 8, 10, 12, 14]\n",
            "range(-10,-20,-2)--> [-10, -13, -16, -19]\n"
          ]
        }
      ]
    },
    {
      "cell_type": "code",
      "source": [
        "#---------------------------------------------------\n",
        "# 3.2: For loop (print 4 to 30 with increment of 2)\n",
        "#---------------------------------------------------\n",
        "for i in range(4,31,2):\n",
        "    print (i)\n"
      ],
      "metadata": {
        "colab": {
          "base_uri": "https://localhost:8080/"
        },
        "id": "JHoWNF5cOXwV",
        "outputId": "d55f9ce1-3b70-4861-eff8-a9816530b906"
      },
      "execution_count": null,
      "outputs": [
        {
          "output_type": "stream",
          "name": "stdout",
          "text": [
            "4\n",
            "6\n",
            "8\n",
            "10\n",
            "12\n",
            "14\n",
            "16\n",
            "18\n",
            "20\n",
            "22\n",
            "24\n",
            "26\n",
            "28\n",
            "30\n"
          ]
        }
      ]
    },
    {
      "cell_type": "code",
      "source": [
        "#-------------------------------\n",
        "# 3.4: For loop (print 0 to -5)\n",
        "#-------------------------------\n",
        "for i in range(0,-5,-1):\n",
        "    print (i)\n"
      ],
      "metadata": {
        "colab": {
          "base_uri": "https://localhost:8080/"
        },
        "id": "0I0vPgFfOXyq",
        "outputId": "a77adf8a-e3c3-46e7-c0ea-743c24f2771f"
      },
      "execution_count": null,
      "outputs": [
        {
          "output_type": "stream",
          "name": "stdout",
          "text": [
            "0\n",
            "-1\n",
            "-2\n",
            "-3\n",
            "-4\n"
          ]
        }
      ]
    },
    {
      "cell_type": "code",
      "source": [
        "#------------------------\n",
        "# 3.5: Print table of 3\n",
        "#------------------------\n",
        "for i in range(1,11):\n",
        "    print (3,\"*\", i , \"=\", i * 3)\n"
      ],
      "metadata": {
        "colab": {
          "base_uri": "https://localhost:8080/"
        },
        "id": "8gfCkUWfOX0n",
        "outputId": "2f22d14f-ee7f-4e0e-8521-63015b353b73"
      },
      "execution_count": null,
      "outputs": [
        {
          "output_type": "stream",
          "name": "stdout",
          "text": [
            "3 * 1 = 3\n",
            "3 * 2 = 6\n",
            "3 * 3 = 9\n",
            "3 * 4 = 12\n",
            "3 * 5 = 15\n",
            "3 * 6 = 18\n",
            "3 * 7 = 21\n",
            "3 * 8 = 24\n",
            "3 * 9 = 27\n",
            "3 * 10 = 30\n"
          ]
        }
      ]
    },
    {
      "cell_type": "code",
      "source": [
        "#----------------------------------\n",
        "# 3.6: Sum all numbers from 1 to 5\n",
        "#----------------------------------\n",
        "s = 0\n",
        "for i in range(1,6):\n",
        "    s = s + i\n",
        "print (\"Sum is --> \",s)\n"
      ],
      "metadata": {
        "colab": {
          "base_uri": "https://localhost:8080/"
        },
        "id": "mmhUKf0hOX2s",
        "outputId": "3f97f653-0c40-4901-bee2-2efe3b093938"
      },
      "execution_count": null,
      "outputs": [
        {
          "output_type": "stream",
          "name": "stdout",
          "text": [
            "Sum is -->  15\n"
          ]
        }
      ]
    },
    {
      "cell_type": "code",
      "source": [
        "#-----------------------------------\n",
        "# 3.7: Sum all numbers from 1 to 7\n",
        "#-----------------------------------\n",
        "print (\"Sum is --> \", sum(range(1,8)))"
      ],
      "metadata": {
        "colab": {
          "base_uri": "https://localhost:8080/"
        },
        "id": "8HZDf5d9OX4i",
        "outputId": "923a4e6f-c1d8-4091-8571-79f2d7a4549a"
      },
      "execution_count": null,
      "outputs": [
        {
          "output_type": "stream",
          "name": "stdout",
          "text": [
            "Sum is -->  28\n"
          ]
        }
      ]
    },
    {
      "cell_type": "code",
      "source": [
        "#-------------------------\n",
        "# 5.1: Adding two numbers\n",
        "#-------------------------\n",
        "def Add(a,b):\n",
        "    c = a + b\n",
        "    return c\n",
        "\n",
        "print (\"Add(5,7) -->\", Add(5,7))\n",
        "print (\"Add(16,24) -->\", Add(16,24)) \n",
        "print (\"Add(36,33)-->\", Add(36,33)) \n"
      ],
      "metadata": {
        "colab": {
          "base_uri": "https://localhost:8080/"
        },
        "id": "Ta9wwJFpOX6V",
        "outputId": "7b0a4b05-9d96-419c-cc51-bdeee2745f97"
      },
      "execution_count": null,
      "outputs": [
        {
          "output_type": "stream",
          "name": "stdout",
          "text": [
            "Add(5,7) --> 12\n",
            "Add(16,24) --> 40\n",
            "Add(36,33)--> 69\n"
          ]
        }
      ]
    },
    {
      "cell_type": "code",
      "source": [
        "#------------------------\n",
        "# 5.4: Default Parameter\n",
        "#------------------------\n",
        "def Add(a, b, d = 69):\n",
        "    c = a + b + d\n",
        "    return c\n",
        "\n",
        "print (\"Add(15,17)   -->\", Add(15,17))\n",
        "print (\"Add(15,20,13)-->\", Add(15,20,13))\n"
      ],
      "metadata": {
        "colab": {
          "base_uri": "https://localhost:8080/"
        },
        "id": "XvY2cemdOX8V",
        "outputId": "3ef5d13e-d0c9-404b-f95d-46957b45f2a3"
      },
      "execution_count": null,
      "outputs": [
        {
          "output_type": "stream",
          "name": "stdout",
          "text": [
            "Add(15,17)   --> 101\n",
            "Add(15,20,13)--> 48\n"
          ]
        }
      ]
    },
    {
      "cell_type": "code",
      "source": [
        "#-----------------\n",
        "# 6: Math library\n",
        "#-----------------\n",
        "\n",
        "import math as m\n",
        "print (\"exp(-100)    -->\", m.exp(-100))  # Exponential function\n",
        "print (\"log(50,2)   -->\", m.log(50,2)) # Log\n",
        "print (\"log(20,10)  -->\", m.log(20,10))# Log\n",
        "print (\"log10(1000)   -->\", m.log10(1000)) # Log 10\n",
        "print (\"m.cos(60)    -->\", m.cos(60))    # cos\n",
        "print (\"m.sin(60)    -->\", m.sin(60))    # sin\n",
        "print (\"m.tan(60)    -->\", m.tan(60))    # tan\n",
        "print (\"m.sqrt(64)  -->\", m.sqrt(64))\n",
        "print (\"m.ceil(96.9) -->\", m.ceil(96.9))\n",
        "print (\"m.floor(25.9)-->\", m.floor(25.9))\n"
      ],
      "metadata": {
        "colab": {
          "base_uri": "https://localhost:8080/"
        },
        "id": "Nd5eCp3zOX-L",
        "outputId": "ea766c50-ab11-4a70-a8c1-339a6cbfaab0"
      },
      "execution_count": null,
      "outputs": [
        {
          "output_type": "stream",
          "name": "stdout",
          "text": [
            "exp(-100)    --> 3.720075976020836e-44\n",
            "log(50,2)   --> 5.643856189774724\n",
            "log(20,10)  --> 1.301029995663981\n",
            "log10(1000)   --> 3.0\n",
            "m.cos(60)    --> -0.9524129804151563\n",
            "m.sin(60)    --> -0.3048106211022167\n",
            "m.tan(60)    --> 0.320040389379563\n",
            "m.sqrt(64)  --> 8.0\n",
            "m.ceil(96.9) --> 97\n",
            "m.floor(25.9)--> 25\n"
          ]
        }
      ]
    },
    {
      "cell_type": "code",
      "source": [
        "#-------------------------\n",
        "# 7.1: String Declaration\n",
        "#-------------------------\n",
        "var1 = 'Hello Python, Im under the water!!'\n",
        "var2 = \"Hello Python, Im out of the water!!\"\n",
        "print (\"var1 -->\", var1)\n",
        "print (\"var2 -->\",var2)\n"
      ],
      "metadata": {
        "colab": {
          "base_uri": "https://localhost:8080/"
        },
        "id": "Q6Epe9yqPMj-",
        "outputId": "bd873914-7e69-4902-9381-c22980e12980"
      },
      "execution_count": null,
      "outputs": [
        {
          "output_type": "stream",
          "name": "stdout",
          "text": [
            "var1 --> Hello Python, Im under the water!!\n",
            "var2 --> Hello Python, Im out of the water!!\n"
          ]
        }
      ]
    },
    {
      "cell_type": "code",
      "source": [
        "#-------------------------------------------------------\n",
        "# 7.2: Difference between single quote and double quote\n",
        "#-------------------------------------------------------\n",
        "var1 = 'Hey \"Cobra\"'\n",
        "var2 = \"Hey 'Cobra'\"\n",
        "print (\"var1 -->\", var1)\n",
        "print (\"var2 -->\",var2)\n"
      ],
      "metadata": {
        "colab": {
          "base_uri": "https://localhost:8080/"
        },
        "id": "-cU_FmLcPMqG",
        "outputId": "40bda9c7-fbbb-4cdd-8020-93445014ad35"
      },
      "execution_count": null,
      "outputs": [
        {
          "output_type": "stream",
          "name": "stdout",
          "text": [
            "var1 --> Hey \"Cobra\"\n",
            "var2 --> Hey 'Cobra'\n"
          ]
        }
      ]
    },
    {
      "cell_type": "code",
      "source": [
        "#-------------------------\n",
        "# 7.3.1: Indexing in string\n",
        "#-------------------------\n",
        "var1 = \"1234567\"\n",
        "print(\"var1       -->\", var1)\n",
        "print(\"var1[1:3]  -->\", var1[1:3])\n",
        "print(\"var1[2:]   -->\", var1[2:])\n",
        "print(\"var1[2:5]  -->\", var1[2:5])\n",
        "print(\"var1[:2]   -->\", var1[:2])\n",
        "print(\"var1[:-1]  -->\", var1[:-1])\n",
        "print(\"var1[-4:-1]-->\", var1[-4:-1])\n"
      ],
      "metadata": {
        "colab": {
          "base_uri": "https://localhost:8080/"
        },
        "id": "jXEnSMIkPMs3",
        "outputId": "5e382ce2-d258-4ca5-df1f-a0995960b728"
      },
      "execution_count": null,
      "outputs": [
        {
          "output_type": "stream",
          "name": "stdout",
          "text": [
            "var1       --> 1234567\n",
            "var1[1:3]  --> 23\n",
            "var1[2:]   --> 34567\n",
            "var1[2:5]  --> 345\n",
            "var1[:2]   --> 12\n",
            "var1[:-1]  --> 123456\n",
            "var1[-4:-1]--> 456\n"
          ]
        }
      ]
    },
    {
      "cell_type": "code",
      "source": [
        "#-------------------------\n",
        "# 7.3.2: Indexing in string\n",
        "#-------------------------\n",
        "var1 = \"1256789\"\n",
        "print(\"var1      -->\", var1)\n",
        "print(\"var1[::1] -->\", var1[::1])        # No change\n",
        "print(\"var1[::-1]-->\", var1[::-1])       # Reverse\n",
        "print(\"var1[::-2]-->\", var1[::-2])\n",
        "print(\"var1[::2] -->\", var1[::2])\n"
      ],
      "metadata": {
        "colab": {
          "base_uri": "https://localhost:8080/"
        },
        "id": "k2Cps63DPMvJ",
        "outputId": "6860b9cf-acdd-4f8e-bdb6-4efdda3566ab"
      },
      "execution_count": null,
      "outputs": [
        {
          "output_type": "stream",
          "name": "stdout",
          "text": [
            "var1      --> 1256789\n",
            "var1[::1] --> 1256789\n",
            "var1[::-1]--> 9876521\n",
            "var1[::-2]--> 9751\n",
            "var1[::2] --> 1579\n"
          ]
        }
      ]
    },
    {
      "cell_type": "code",
      "source": [
        "#----------------------------------\n",
        "# 7.4: String length, upper, lower\n",
        "#----------------------------------\n",
        "var1 = \"I love anime\"\n",
        "\n",
        "print (\"var1           --> \", var1)\n",
        "print (\"\\nlength of var1 --> \", len(var1))\n",
        "\n",
        "print (\"\\nUpper of var1  --> \", var1.upper())     # No change in the var1 variable\n",
        "print (\"var1           --> \", var1)\n",
        "\n",
        "print (\"\\nLower of var1  --> \", var1.lower())\n",
        "print (\"var1           --> \", var1)\n"
      ],
      "metadata": {
        "colab": {
          "base_uri": "https://localhost:8080/"
        },
        "id": "0JlKCwsIPe0z",
        "outputId": "63ed2d54-5dd7-47c5-84de-b2c3ef0b8b8e"
      },
      "execution_count": null,
      "outputs": [
        {
          "output_type": "stream",
          "name": "stdout",
          "text": [
            "var1           -->  I love anime\n",
            "\n",
            "length of var1 -->  12\n",
            "\n",
            "Upper of var1  -->  I LOVE ANIME\n",
            "var1           -->  I love anime\n",
            "\n",
            "Lower of var1  -->  i love anime\n",
            "var1           -->  I love anime\n"
          ]
        }
      ]
    },
    {
      "cell_type": "code",
      "source": [
        "#-------------------------\n",
        "# 7.6: String formatting\n",
        "#-------------------------\n",
        "name  = \"Akshat\"    #=input(\"Enter your name: \")\"\n",
        "age   = 18           #=int(input(\"Enter your age: \"))\n",
        "price = 99999         #=float(input(\"Enter the book price: \"))\n",
        "s = \"Your name is %s, age is %d and book price is %f\" %(name.upper(),age,price)\n",
        "print (s)\n"
      ],
      "metadata": {
        "colab": {
          "base_uri": "https://localhost:8080/"
        },
        "id": "vfULdX-yPe4D",
        "outputId": "d7fe0aa2-29b4-4c87-8114-2c6c2de43f1c"
      },
      "execution_count": null,
      "outputs": [
        {
          "output_type": "stream",
          "name": "stdout",
          "text": [
            "Your name is AKSHAT, age is 18 and book price is 99999.000000\n"
          ]
        }
      ]
    },
    {
      "cell_type": "code",
      "source": [
        "#---------------------------------------------------------------------------------\n",
        "# 7.8: String strip - Remove white Spaces (space, new line, tab) from either side\n",
        "#---------------------------------------------------------------------------------\n",
        "s1 = \" omae wa mou shindeiru \"\n",
        "s2 = \" omae     wa     mou     shindeiru\"\n",
        "s3 = \"omae,wa,mou,shindeiru\"\n",
        "\n",
        "print (\"s1       --> \", s1, \"\\t\\t   Length --> \", len(s1))\n",
        "print (\"s1 strip --> \", s1.strip(), \"\\t\\t   Length --> \", len(s1.strip()))\n",
        " \n",
        "print (\"\\ns2       --> \", s2, \"\\t   Length --> \", len(s2))\n",
        "print (\"s2 strip --> \", s2.strip(), \"\\t\\t   Length --> \", len(s2.strip()))\n",
        "\n",
        "print (\"\\ns3       --> \", s3, \"\\t   Length --> \", len(s3))\n",
        "print (\"s3 strip --> \", s3.strip(), \"\\t   Length --> \", len(s3.strip()))\n"
      ],
      "metadata": {
        "colab": {
          "base_uri": "https://localhost:8080/"
        },
        "id": "vzuKFN5wPe6U",
        "outputId": "5a32143a-ee0f-4d76-b1fb-a8836dcba04c"
      },
      "execution_count": null,
      "outputs": [
        {
          "output_type": "stream",
          "name": "stdout",
          "text": [
            "s1       -->   omae wa mou shindeiru  \t\t   Length -->  23\n",
            "s1 strip -->  omae wa mou shindeiru \t\t   Length -->  21\n",
            "\n",
            "s2       -->   omae     wa     mou     shindeiru \t   Length -->  34\n",
            "s2 strip -->  omae     wa     mou     shindeiru \t\t   Length -->  33\n",
            "\n",
            "s3       -->  omae,wa,mou,shindeiru \t   Length -->  21\n",
            "s3 strip -->  omae,wa,mou,shindeiru \t   Length -->  21\n"
          ]
        }
      ]
    },
    {
      "cell_type": "code",
      "source": [
        "#------------------------\n",
        "# 7.11: Reverse a String\n",
        "#------------------------\n",
        "s1 = \"Akshat Shukla\"\n",
        "print (\"s1               -->\", s1)\n",
        "print (\"s1[::1]          -->\", s1[::1])\n",
        "print (\"s1[::-1]         -->\", s1[::-1])\n",
        "print (\"s1[::-2]         -->\", s1[::-2])\n",
        "print (\"s1[::2]          -->\", s1[::2])\n",
        "\n",
        "s1 = s1[::-1]\n",
        "print (\"s1 after reverse -->\", s1)\n"
      ],
      "metadata": {
        "colab": {
          "base_uri": "https://localhost:8080/"
        },
        "id": "RnQBxYSsPp7P",
        "outputId": "8976d5f1-3581-43dd-bb25-b68c93199111"
      },
      "execution_count": null,
      "outputs": [
        {
          "output_type": "stream",
          "name": "stdout",
          "text": [
            "s1               --> Akshat Shukla\n",
            "s1[::1]          --> Akshat Shukla\n",
            "s1[::-1]         --> alkuhS tahskA\n",
            "s1[::-2]         --> akh asA\n",
            "s1[::2]          --> Asa hka\n",
            "s1 after reverse --> alkuhS tahskA\n"
          ]
        }
      ]
    },
    {
      "cell_type": "code",
      "source": [
        "#------------------\n",
        "# 7.12: Palindrome\n",
        "#-----------------\n",
        "s1 = \"Anime Cringe\"\n",
        "s2 = \"Japanese\"\n",
        "s3 = \"Senpai\"\n",
        "s4 = \"Kun\"\n",
        "print (\"s1 -->\", s1 == s1[::-1])\n",
        "print (\"s2 -->\", s2 == s2[::-1])\n",
        "print (\"s3 -->\", s3 == s3[::-1])\n",
        "print (\"s4 -->\", s4 == s4[::-1])\n"
      ],
      "metadata": {
        "colab": {
          "base_uri": "https://localhost:8080/"
        },
        "id": "Fc0Sy1WUPqAh",
        "outputId": "1873a9fa-c185-422a-8751-f7b6a870ff28"
      },
      "execution_count": null,
      "outputs": [
        {
          "output_type": "stream",
          "name": "stdout",
          "text": [
            "s1 --> False\n",
            "s2 --> False\n",
            "s3 --> False\n",
            "s4 --> False\n"
          ]
        }
      ]
    },
    {
      "cell_type": "code",
      "source": [
        "#----------------------------------------------\n",
        "#Assingment 3.1.1: WAP to print the table of 7.\n",
        "#----------------------------------------------\n",
        "for i in range(1,11):\n",
        "    print (7,\"*\", i , \"=\", i * 7)"
      ],
      "metadata": {
        "colab": {
          "base_uri": "https://localhost:8080/"
        },
        "id": "i_D1dvWVUQIZ",
        "outputId": "294b9916-7a42-48da-9810-464910803a8f"
      },
      "execution_count": null,
      "outputs": [
        {
          "output_type": "stream",
          "name": "stdout",
          "text": [
            "7 * 1 = 7\n",
            "7 * 2 = 14\n",
            "7 * 3 = 21\n",
            "7 * 4 = 28\n",
            "7 * 5 = 35\n",
            "7 * 6 = 42\n",
            "7 * 7 = 49\n",
            "7 * 8 = 56\n",
            "7 * 9 = 63\n",
            "7 * 10 = 70\n"
          ]
        }
      ]
    },
    {
      "cell_type": "code",
      "source": [
        "#----------------------------------------------\n",
        "#Assingment 3.1.2: WAP to print the table of 7.\n",
        "#----------------------------------------------\n",
        "for i in range(1,11):\n",
        "    print (9,\"*\", i , \"=\", i * 9)"
      ],
      "metadata": {
        "colab": {
          "base_uri": "https://localhost:8080/"
        },
        "id": "rvNkG-iuUQXI",
        "outputId": "b4ab1729-5731-45c8-d7ec-2499aad2244d"
      },
      "execution_count": null,
      "outputs": [
        {
          "output_type": "stream",
          "name": "stdout",
          "text": [
            "9 * 1 = 9\n",
            "9 * 2 = 18\n",
            "9 * 3 = 27\n",
            "9 * 4 = 36\n",
            "9 * 5 = 45\n",
            "9 * 6 = 54\n",
            "9 * 7 = 63\n",
            "9 * 8 = 72\n",
            "9 * 9 = 81\n",
            "9 * 10 = 90\n"
          ]
        }
      ]
    },
    {
      "cell_type": "code",
      "source": [
        "#--------------------------------------------------------------------\n",
        "#Assingment 3.2: WAP to print the table of n and n is given by user.\n",
        "#--------------------------------------------------------------------\n",
        "n=int(input(\"Enter the number you want to print the table for:\"))\n",
        "for i in range(1,11):\n",
        "    print(n,\"*\", i ,\"=\", n * i)"
      ],
      "metadata": {
        "colab": {
          "base_uri": "https://localhost:8080/"
        },
        "id": "4781ONv7UQlk",
        "outputId": "78006f01-91f2-4dd6-a498-713155391fc1"
      },
      "execution_count": null,
      "outputs": [
        {
          "output_type": "stream",
          "name": "stdout",
          "text": [
            "Enter the number you want to print the table for:69\n",
            "69 * 1 = 69\n",
            "69 * 2 = 138\n",
            "69 * 3 = 207\n",
            "69 * 4 = 276\n",
            "69 * 5 = 345\n",
            "69 * 6 = 414\n",
            "69 * 7 = 483\n",
            "69 * 8 = 552\n",
            "69 * 9 = 621\n",
            "69 * 10 = 690\n"
          ]
        }
      ]
    },
    {
      "cell_type": "code",
      "source": [
        "#------------------------------------------------------------------------------\n",
        "#Assingment 3.3: WAP to add all the numbers from 1 to n and n is given by user.\n",
        "#------------------------------------------------------------------------------\n",
        "\n",
        "n=int(input(\"Enter the number you want add from 1:\"))\n",
        "print (\"Sum is --> \", sum(range(1,n)))\n"
      ],
      "metadata": {
        "colab": {
          "base_uri": "https://localhost:8080/"
        },
        "id": "yJby40ohUQuN",
        "outputId": "036c82fc-a726-48a1-8a31-4d38fa6d47a5"
      },
      "execution_count": null,
      "outputs": [
        {
          "output_type": "stream",
          "name": "stdout",
          "text": [
            "Enter the number you want add from 1:69\n",
            "Sum is -->  2346\n"
          ]
        }
      ]
    },
    {
      "cell_type": "code",
      "source": [
        "#-----------------------------------------------------------------------------------------\n",
        "#Assingment 5.1: WAP using function that add all odd numbers from 1 to n; n given by user.\n",
        "#-----------------------------------------------------------------------------------------\n",
        "\n",
        "n = int(input(\"Enter the number : \"))\n",
        "sum = 0;\n",
        "\n",
        "for i in range(1, n + 1):\n",
        "\n",
        "    #Check for odd or not.\n",
        "    if(not (i % 2) == 0):\n",
        "        sum += i;\n",
        "\n",
        "print(\"\\nSum of odd numbers from 1 to\", n, \"is :\", sum)\n"
      ],
      "metadata": {
        "colab": {
          "base_uri": "https://localhost:8080/"
        },
        "id": "XN3OIx3PUQ10",
        "outputId": "3a2ea439-5fff-493e-9ca0-f16b2c0246a9"
      },
      "execution_count": 58,
      "outputs": [
        {
          "output_type": "stream",
          "name": "stdout",
          "text": [
            "Enter the number : 15\n",
            "\n",
            "Sum of odd numbers from 1 to 15 is : 64\n"
          ]
        }
      ]
    },
    {
      "cell_type": "code",
      "source": [
        "#-----------------------------------------------------------------------------------------\n",
        "#Assingment 5.2: WAP using function that add all even numbers from 1 to n; n given by user.\n",
        "#-----------------------------------------------------------------------------------------\n",
        "\n",
        "n = int(input(\"Enter the number: \"))\n",
        "\n",
        "total = 0\n",
        "\n",
        "for i in range(1, n + 1):\n",
        "\n",
        "    # Check for even or not.\n",
        "    if((i % 2) == 0):\n",
        "        total = total + i\n",
        "\n",
        "print(\"Sum of even numbers from 1 to\", n, \"is :\", total)"
      ],
      "metadata": {
        "id": "obENbElZUQ9H",
        "colab": {
          "base_uri": "https://localhost:8080/"
        },
        "outputId": "276920be-abb1-4bd1-a2ce-0942a50e184c"
      },
      "execution_count": 59,
      "outputs": [
        {
          "output_type": "stream",
          "name": "stdout",
          "text": [
            "Enter the number: 15\n",
            "Sum of even numbers from 1 to 15 is : 56\n"
          ]
        }
      ]
    },
    {
      "cell_type": "code",
      "source": [
        "#-----------------------------------------------------------------------------------------\n",
        "#Assingment 5.3: WAP using function that add all prime numbers from 1 to n; n given by user.\n",
        "#-----------------------------------------------------------------------------------------\n",
        "\n",
        "n = int(input(\"Enter the number:\"))\n",
        "sum = 0\n",
        "\n",
        "for num in range(2, n + 1):\n",
        "\n",
        "    i = 2\n",
        "    for i in range(2, num):\n",
        "        if (int(num % i) == 0):\n",
        "            i = num\n",
        "            break;\n",
        "            \n",
        "    if i is not num:\n",
        "        sum = sum + num\n",
        "print(\"The sum of prime numbers from 1 to \", n, \" is :\", sum)\n"
      ],
      "metadata": {
        "id": "RS02QGWQVECr",
        "colab": {
          "base_uri": "https://localhost:8080/"
        },
        "outputId": "14d6c6fe-89d3-460c-ad31-d16cdf4bbb2a"
      },
      "execution_count": 60,
      "outputs": [
        {
          "output_type": "stream",
          "name": "stdout",
          "text": [
            "Enter the number:30\n",
            "The sum of prime numbers from 1 to  30  is : 127\n"
          ]
        }
      ]
    }
  ]
}